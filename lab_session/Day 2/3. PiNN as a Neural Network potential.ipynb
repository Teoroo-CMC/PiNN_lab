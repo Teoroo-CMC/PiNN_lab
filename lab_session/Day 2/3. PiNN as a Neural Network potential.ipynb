{
 "cells": [
  {
   "cell_type": "code",
   "execution_count": 1,
   "metadata": {},
   "outputs": [],
   "source": [
    "import os \n",
    "os.environ['CUDA_VISIBLE_DEVICES'] = '4'"
   ]
  },
  {
   "cell_type": "markdown",
   "metadata": {},
   "source": [
    "# Using PiNN as a Neural Network Potential\n",
    "\n",
    "Here the model is trained on the [ANI-1](https://figshare.com/articles/ANI-1_data_set_20M_DFT_energies_for_non-equilibrium_small_molecules/5287732) (20M DFT energies for non-equilibrium small molecules) dataset."
   ]
  },
  {
   "cell_type": "code",
   "execution_count": 71,
   "metadata": {},
   "outputs": [
    {
     "name": "stdout",
     "output_type": "stream",
     "text": [
      "INFO:tensorflow:Using default config.\n",
      "INFO:tensorflow:Using config: {'_model_dir': '../../model_dir/PiNN_ANI', '_tf_random_seed': None, '_save_summary_steps': 100, '_save_checkpoints_steps': None, '_save_checkpoints_secs': 600, '_session_config': allow_soft_placement: true\n",
      "graph_options {\n",
      "  rewrite_options {\n",
      "    meta_optimizer_iterations: ONE\n",
      "  }\n",
      "}\n",
      ", '_keep_checkpoint_max': 5, '_keep_checkpoint_every_n_hours': 10000, '_log_step_count_steps': 100, '_train_distribute': None, '_device_fn': None, '_protocol': None, '_eval_distribute': None, '_experimental_distribute': None, '_service': None, '_cluster_spec': <tensorflow.python.training.server_lib.ClusterSpec object at 0x7f827c12da58>, '_task_type': 'worker', '_task_id': 0, '_global_id_in_cluster': 0, '_master': '', '_evaluation_master': '', '_is_chief': True, '_num_ps_replicas': 0, '_num_worker_replicas': 1}\n"
     ]
    }
   ],
   "source": [
    "from pinn.models import potential_model\n",
    "from pinn.calculator import PiNN_calc\n",
    "\n",
    "params = {'model_dir': '../../model_dir/PiNN_ANI',\n",
    "          'network': 'pinn_network',\n",
    "          'netparam': {'atom_types':[1, 6, 7, 8]},\n",
    "          'train': {}}\n",
    "\n",
    "model = potential_model(params)\n",
    "calc = PiNN_calc(model, unit=units.kcal/units.mol)"
   ]
  },
  {
   "cell_type": "code",
   "execution_count": 102,
   "metadata": {},
   "outputs": [],
   "source": [
    "from ase.calculators.tip3p import TIP3P, rOH, angleHOH\n",
    "atoms = g2['CH4']\n",
    "\n",
    "vol = ((18.01528 / 6.022140857e23) / (0.9982 / 1e24))**(1 / 3.)\n",
    "atoms.set_cell((vol, vol, vol))\n",
    "atoms.center()\n",
    "\n",
    "atoms = atoms.repeat((3, 3, 3))\n",
    "atoms.set_pbc(True)\n",
    "atoms.set_calculator(calc)"
   ]
  },
  {
   "cell_type": "markdown",
   "metadata": {},
   "source": [
    "## Run some molecular dynamics"
   ]
  },
  {
   "cell_type": "code",
   "execution_count": 107,
   "metadata": {},
   "outputs": [],
   "source": [
    "from ase import units\n",
    "from ase.md.verlet import VelocityVerlet\n",
    "\n",
    "dyn = VelocityVerlet(atoms, dt=0.5 * units.fs,\n",
    "                     trajectory='md.traj', logfile='md.log')\n",
    "dyn.run(1000)"
   ]
  },
  {
   "cell_type": "code",
   "execution_count": 108,
   "metadata": {
    "scrolled": false
   },
   "outputs": [
    {
     "data": {
      "application/vnd.jupyter.widget-view+json": {
       "model_id": "2ab7aabd87ce4ed9b23cbb05e713c2ef",
       "version_major": 2,
       "version_minor": 0
      },
      "text/plain": [
       "NGLWidget(count=1000)"
      ]
     },
     "metadata": {},
     "output_type": "display_data"
    }
   ],
   "source": [
    "import nglview as nv\n",
    "from ase.io import read\n",
    "nv.show_asetraj(read('md.traj', index=':'))"
   ]
  },
  {
   "cell_type": "markdown",
   "metadata": {},
   "source": [
    "## Run some NEB "
   ]
  },
  {
   "cell_type": "code",
   "execution_count": 83,
   "metadata": {},
   "outputs": [
    {
     "data": {
      "application/vnd.jupyter.widget-view+json": {
       "model_id": "7f520012b5f74efb9a299e8f5844c8ec",
       "version_major": 2,
       "version_minor": 0
      },
      "text/plain": [
       "NGLWidget()"
      ]
     },
     "metadata": {},
     "output_type": "display_data"
    }
   ],
   "source": [
    "from ase import Atoms\n",
    "from ase.build import fcc111, add_adsorbate\n",
    "from ase.constraints import FixAtoms\n",
    "\n",
    "slab = fcc111('C',size=(4,4,2), a=2)\n",
    "slab.set_pbc((0,0,0))\n",
    "\n",
    "# Initial state.\n",
    "# Add the N2 molecule oriented at 60 degrees:\n",
    "d = 1.10 # N2 bond length\n",
    "N2mol = Atoms('N2',positions=[[0.0,0.0,0.0],[0.5*3**0.5*d,0.5*d,0.0]])\n",
    "add_adsorbate(slab,N2mol,height=1.5,position='fcc')\n",
    "\n",
    "# Use the EMT calculator for the forces and energies:\n",
    "slab.set_calculator(calc)\n",
    "\n",
    "# We don't want to worry about the Cu degrees of freedom,\n",
    "# so fix these atoms:\n",
    "\n",
    "mask = [atom.symbol == 'C' for atom in slab]\n",
    "slab.set_constraint(FixAtoms(mask=mask))\n",
    "nv.show_ase(slab)"
   ]
  },
  {
   "cell_type": "code",
   "execution_count": 84,
   "metadata": {},
   "outputs": [
    {
     "data": {
      "text/plain": [
       "46.71679705280212"
      ]
     },
     "execution_count": 84,
     "metadata": {},
     "output_type": "execute_result"
    }
   ],
   "source": [
    "slab.get_potential_energy()"
   ]
  },
  {
   "cell_type": "code",
   "execution_count": 85,
   "metadata": {},
   "outputs": [
    {
     "name": "stdout",
     "output_type": "stream",
     "text": [
      "                Step[ FC]     Time          Energy          fmax\n",
      "BFGSLineSearch:    0[  0] 14:07:36       46.716797        2.0666\n",
      "BFGSLineSearch:    1[  2] 14:07:36       46.640735        0.6030\n",
      "BFGSLineSearch:    2[  9] 14:07:37       43.252592        3.4705\n",
      "BFGSLineSearch:    3[ 10] 14:07:37       43.135828        1.3636\n",
      "BFGSLineSearch:    4[ 12] 14:07:37       43.127645        0.2628\n",
      "BFGSLineSearch:    5[ 13] 14:07:37       43.114596        0.5680\n",
      "BFGSLineSearch:    6[ 15] 14:07:37       43.077547        0.7577\n",
      "BFGSLineSearch:    7[ 17] 14:07:37       43.022757        0.3946\n",
      "BFGSLineSearch:    8[ 18] 14:07:37       43.002412        0.1807\n",
      "BFGSLineSearch:    9[ 19] 14:07:38       43.000315        0.2078\n",
      "BFGSLineSearch:   10[ 20] 14:07:38       42.999437        0.0937\n",
      "BFGSLineSearch:   11[ 21] 14:07:38       42.998907        0.0395\n",
      "initial state: 42.99891271846455\n",
      "BFGSLineSearch:   11[ 21] 14:07:38       46.487876        8.9827\n",
      "BFGSLineSearch:   12[ 23] 14:07:38       44.528942       13.7190\n",
      "BFGSLineSearch:   13[ 25] 14:07:38       43.732312       10.6683\n",
      "BFGSLineSearch:   14[ 26] 14:07:39       43.110478        2.9200\n",
      "BFGSLineSearch:   15[ 27] 14:07:39       43.022564        0.6254\n",
      "BFGSLineSearch:   16[ 28] 14:07:39       42.983990        0.4241\n",
      "BFGSLineSearch:   17[ 29] 14:07:39       42.978774        0.2199\n",
      "BFGSLineSearch:   18[ 30] 14:07:39       42.976868        0.2064\n",
      "BFGSLineSearch:   19[ 32] 14:07:39       42.975796        0.1462\n",
      "BFGSLineSearch:   20[ 35] 14:07:40       42.975058        0.0836\n",
      "BFGSLineSearch:   21[ 39] 14:07:40       42.969889        0.1962\n",
      "BFGSLineSearch:   22[ 40] 14:07:40       42.963333        0.1748\n",
      "BFGSLineSearch:   23[ 41] 14:07:40       42.954868        0.3294\n",
      "BFGSLineSearch:   24[ 42] 14:07:40       42.950739        0.1244\n",
      "BFGSLineSearch:   25[ 43] 14:07:40       42.946068        0.7000\n",
      "BFGSLineSearch:   26[ 44] 14:07:41       42.941801        0.4669\n",
      "BFGSLineSearch:   27[ 45] 14:07:41       42.936767        0.2967\n",
      "BFGSLineSearch:   28[ 46] 14:07:41       42.931077        0.0774\n",
      "BFGSLineSearch:   29[ 48] 14:07:41       42.929224        0.1957\n",
      "BFGSLineSearch:   30[ 50] 14:07:41       42.927843        0.2703\n",
      "BFGSLineSearch:   31[ 51] 14:07:41       42.926633        0.2150\n",
      "BFGSLineSearch:   32[ 52] 14:07:42       42.925667        0.1066\n",
      "BFGSLineSearch:   33[ 53] 14:07:42       42.925265        0.1829\n",
      "BFGSLineSearch:   34[ 54] 14:07:42       42.924926        0.1265\n",
      "BFGSLineSearch:   35[ 55] 14:07:42       42.924725        0.0480\n",
      "final state:   42.92472209368199\n"
     ]
    }
   ],
   "source": [
    "from ase.optimize import QuasiNewton\n",
    "from ase.io import write\n",
    "\n",
    "relax = QuasiNewton(slab)\n",
    "relax.run(fmax=0.05)\n",
    "print('initial state:', slab.get_potential_energy())\n",
    "write('N2.traj', slab)\n",
    "\n",
    "# Now the final state.\n",
    "# Move the second N atom to a neighboring hollow site:\n",
    "slab[-1].position[0] = slab[-2].position[0] + 0.25 * slab.cell[0,0]\n",
    "slab[-1].position[1] = slab[-2].position[1]\n",
    "# and relax.\n",
    "relax.run()\n",
    "print('final state:  ', slab.get_potential_energy())\n",
    "write('2N.traj', slab)"
   ]
  },
  {
   "cell_type": "code",
   "execution_count": 89,
   "metadata": {},
   "outputs": [
    {
     "name": "stdout",
     "output_type": "stream",
     "text": [
      "/home/yunqi/work/pinn_proj/PiNN_lab/lab_session/Day 2\n"
     ]
    }
   ],
   "source": [
    "cd /home/yunqi/work/pinn_proj/PiNN_lab/lab_session/Day\\ 2"
   ]
  },
  {
   "cell_type": "code",
   "execution_count": 91,
   "metadata": {},
   "outputs": [
    {
     "data": {
      "application/vnd.jupyter.widget-view+json": {
       "model_id": "ee1692fa5a84407995147ac2d777d307",
       "version_major": 2,
       "version_minor": 0
      },
      "text/plain": [
       "NGLWidget()"
      ]
     },
     "metadata": {},
     "output_type": "display_data"
    }
   ],
   "source": [
    "nv.show_ase(read('2N.traj'))\n"
   ]
  },
  {
   "cell_type": "code",
   "execution_count": 52,
   "metadata": {},
   "outputs": [
    {
     "name": "stdout",
     "output_type": "stream",
     "text": [
      "      Step     Time          Energy         fmax\n",
      "*Force-consistent energies used in optimization.\n",
      "FIRE:    0 13:34:53       -2.222201*       0.0371\n",
      "2.5104382021613705 1.6542092851068446e-07\n",
      "2.5253504068946366 0.0010992220703864852\n",
      "2.5446412424923093 0.002514728956210188\n",
      "2.5682120420714667 0.004249167392328168\n",
      "2.5959462239705937 0.006303199062454912\n",
      "2.627711964259339 0.008671199655018391\n",
      "2.6633650146261143 0.011346552332875959\n",
      "2.7027515423758897 0.014319497261241487\n",
      "2.7457108848446397 0.017576966186757748\n"
     ]
    }
   ],
   "source": [
    "import numpy as np\n",
    "\n",
    "from ase.constraints import FixAtoms\n",
    "from ase.calculators.emt import EMT\n",
    "from ase.neb import SingleCalculatorNEB as NEB\n",
    "from ase.optimize.fire import FIRE as QuasiNewton\n",
    "from ase.io import read\n",
    "\n",
    "# Read the previous configurations\n",
    "initial = read('N2.traj')\n",
    "final = read('2N.traj')\n",
    "\n",
    "initial.set_calculator(calc)\n",
    "final.set_calculator(calc)\n",
    "\n",
    "#  Make 9 images (note the use of copy)\n",
    "configs = [initial.copy() for i in range(8)] + [final]\n",
    "\n",
    "# As before, fix the Cu atoms\n",
    "constraint = FixAtoms(mask=[atom.symbol != 'N' for atom in initial])\n",
    "for config in configs:\n",
    "    config.set_calculator(calc)\n",
    "    config.set_constraint(constraint)\n",
    "\n",
    "# Make the NEB object, interpolate to guess the intermediate steps\n",
    "band = NEB(configs)\n",
    "band.interpolate()\n",
    "\n",
    "relax = QuasiNewton(band)\n",
    "\n",
    "# Do the calculation\n",
    "relax.run()\n",
    "\n",
    "# Compare intermediate steps to initial energy\n",
    "e0 = initial.get_potential_energy()\n",
    "for config in configs:\n",
    "    d = config[-2].position - config[-1].position\n",
    "    print(np.linalg.norm(d), config.get_potential_energy() - e0)"
   ]
  }
 ],
 "metadata": {
  "kernelspec": {
   "display_name": "Python 3",
   "language": "python",
   "name": "python3"
  },
  "language_info": {
   "codemirror_mode": {
    "name": "ipython",
    "version": 3
   },
   "file_extension": ".py",
   "mimetype": "text/x-python",
   "name": "python",
   "nbconvert_exporter": "python",
   "pygments_lexer": "ipython3",
   "version": "3.6.7"
  }
 },
 "nbformat": 4,
 "nbformat_minor": 2
}
