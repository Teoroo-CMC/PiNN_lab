{
 "cells": [
  {
   "cell_type": "markdown",
   "metadata": {},
   "source": [
    "# Introduction\n",
    "\n",
    "On the second day we will start dealing with atomic neural networks.\n",
    "Before we start, we'll briefly introduce ASE, a python package for \n",
    "manipulating atoms."
   ]
  },
  {
   "cell_type": "code",
   "execution_count": null,
   "metadata": {},
   "outputs": [],
   "source": [
    "from ase import Atoms\n",
    "\n",
    "# Define a atoms \n",
    "atoms = Atoms('H2O', positions=[[0,0,0],[2,0,0],[1,0.5,0]])\n",
    "show_atoms(atoms)"
   ]
  },
  {
   "cell_type": "markdown",
   "metadata": {},
   "source": [
    "# Visualization\n",
    "Here the visualization is done with the NGLView package, \n",
    "we'll not introduce that in detial.\n",
    "But we've provided some wrapper functions to visualize the atoms in notebooks.\n",
    "Fill free to try some more atoms."
   ]
  },
  {
   "cell_type": "code",
   "execution_count": null,
   "metadata": {},
   "outputs": [],
   "source": [
    "# Print the avaiable molecules\n",
    "from ase.collections import g2, s22\n",
    "print(g2.names)\n",
    "print(s22.names)\n",
    "\n",
    "# We've preapared some tools to visualize the atoms\n",
    "from helpers import *\n",
    "show_atoms(s22['Phenol_dimer'])"
   ]
  },
  {
   "cell_type": "markdown",
   "metadata": {},
   "source": [
    "# Calculators\n",
    "\n",
    "ASE also provides interfaces to interact with different computational chemistry codes.\n",
    "They are called `calculators` in ASE. \n",
    "Calculators generally provides the energies and forces of the `Atoms`.\n",
    "\n",
    "We'll demonstrate with something simeple, the LennardJones potential, \n",
    "but this works for a number of other computational chemistry softwares:\n",
    "https://wiki.fysik.dtu.dk/ase/ase/calculators/calculators.html"
   ]
  },
  {
   "cell_type": "code",
   "execution_count": null,
   "metadata": {},
   "outputs": [],
   "source": [
    "from ase.calculators.lj import LennardJones\n",
    "\n",
    "atoms.set_calculator(LennardJones())\n",
    "atoms.get_forces()"
   ]
  }
 ],
 "metadata": {
  "kernelspec": {
   "display_name": "Python 3",
   "language": "python",
   "name": "python3"
  },
  "language_info": {
   "codemirror_mode": {
    "name": "ipython",
    "version": 3
   },
   "file_extension": ".py",
   "mimetype": "text/x-python",
   "name": "python",
   "nbconvert_exporter": "python",
   "pygments_lexer": "ipython3",
   "version": "3.6.7"
  }
 },
 "nbformat": 4,
 "nbformat_minor": 2
}
