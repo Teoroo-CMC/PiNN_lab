{
 "cells": [
  {
   "cell_type": "code",
   "execution_count": null,
   "metadata": {},
   "outputs": [],
   "source": [
    "import os\n",
    "os.environ['CUDA_VISIBLE_DEVICES'] = ''"
   ]
  },
  {
   "cell_type": "markdown",
   "metadata": {},
   "source": [
    "## The dataset\n",
    "\n",
    "Again, the job starts with loading the dataset.\n",
    "\n",
    "Here we use the QM9 dataset [doi:10.6084/m9.figshare.978904](https://figshare.com/collections/Quantum_chemistry_structures_and_properties_of_134_kilo_molecules/978904),\n",
    "https://www.nature.com/articles/sdata201422 .\n",
    "A collection of quantum chemical calculations of 134 kilo organic molecules, which is a subset of the GDB-17 chemical universe of 166 billion organic molecules.\n",
    "\n",
    "\n",
    "### A table of the properties\n",
    "\n",
    "    Property  Unit         Description\n",
    "    --------  -----------  --------------\n",
    "    A         GHz          Rotational constant A\n",
    "    B         GHz          Rotational constant B\n",
    "    C         GHz          Rotational constant C\n",
    "    mu        Debye        Dipole moment\n",
    "    alpha     Bohr^3       Isotropic polarizability\n",
    "    homo      Hartree      Energy of Highest occupied molecular orbital (HOMO)\n",
    "    lumo      Hartree      Energy of Lowest occupied molecular orbital (LUMO)\n",
    "    gap       Hartree      Gap, difference between LUMO and HOMO\n",
    "    r2        Bohr^2       Electronic spatial extent\n",
    "    zpve      Hartree      Zero point vibrational energy\n",
    "    U0        Hartree      Internal energy at 0 K\n",
    "    U         Hartree      Internal energy at 298.15 K\n",
    "    H         Hartree      Enthalpy at 298.15 K\n",
    "    G         Hartree      Free energy at 298.15 K\n",
    "    Cv        cal/(mol K)  Heat capacity at 298.15 K\n",
    "\n"
   ]
  },
  {
   "cell_type": "code",
   "execution_count": 9,
   "metadata": {},
   "outputs": [],
   "source": [
    "import tensorflow as tf\n",
    "from pinn.datasets.tfr import load_tfrecord\n",
    "from helpers import *\n",
    "\n",
    "dataset = load_tfrecord('qm9-train.tfr', format_dict=qm9_full)"
   ]
  },
  {
   "cell_type": "markdown",
   "metadata": {},
   "source": [
    "For your convinience we have downloaded and transformed the dataset here.\n",
    "You can insepect the format of the dataset with the following blocks"
   ]
  },
  {
   "cell_type": "code",
   "execution_count": 10,
   "metadata": {},
   "outputs": [
    {
     "data": {
      "application/vnd.jupyter.widget-view+json": {
       "model_id": "a9b9698f4ae1422882d55b9c01166948",
       "version_major": 2,
       "version_minor": 0
      },
      "text/plain": [
       "HBox(children=(NGLWidget(), VBox(children=(Select(layout=Layout(height='270px', width='200px'), options=('Samp…"
      ]
     },
     "metadata": {},
     "output_type": "display_data"
    }
   ],
   "source": [
    "show_dataset(dataset)"
   ]
  },
  {
   "cell_type": "code",
   "execution_count": null,
   "metadata": {},
   "outputs": [],
   "source": [
    "with tf.Session() as sess:\n",
    "    print(sess.run(dataset.make_one_shot_iterator().get_next()))"
   ]
  },
  {
   "cell_type": "markdown",
   "metadata": {},
   "source": [
    "## The model function\n",
    "\n",
    "Next, define a model function as we did yesterday.\n",
    "\n",
    "Here we have defined a extra mode `Eval`. \n",
    "This is to allow the estimator to evaluate the out-of-sample error \n",
    "as during the training.\n",
    "You'll see that on the tensorboard."
   ]
  },
  {
   "cell_type": "code",
   "execution_count": null,
   "metadata": {},
   "outputs": [],
   "source": [
    "from pinn.networks import pinn_network\n",
    "def model_fn(features, labels, mode, params):\n",
    "    from pinn.networks import pinn_network\n",
    "\n",
    "    label = features['U0'] # Change to your desired output\n",
    "    pred = pinn_network(features)\n",
    "    \n",
    "    if mode == tf.estimator.ModeKeys.TRAIN:\n",
    "        \n",
    "        ##### Complete this part by defining the training operation\n",
    "        loss = \n",
    "        train_op = \n",
    "        #####\n",
    "        return tf.estimator.EstimatorSpec(\n",
    "            mode, loss=loss, train_op=train_op)\n",
    "\n",
    "    if mode == tf.estimator.ModeKeys.EVAL:\n",
    "        ##### Also define the loss function here\n",
    "        loss = \n",
    "        return tf.estimator.EstimatorSpec(\n",
    "            mode, loss=loss, eval_metric_ops=metrics)\n",
    "\n",
    "    if mode == tf.estimator.ModeKeys.PREDICT:\n",
    "        predictions = pred\n",
    "        return tf.estimator.EstimatorSpec(\n",
    "            mode, predictions=predictions)"
   ]
  },
  {
   "cell_type": "markdown",
   "metadata": {},
   "source": [
    "## Optimization\n",
    "\n",
    "Depending on what you are predicting, your performance might vary significantly.\n",
    "\n",
    "For example, for example, when training on potential eneries, assigning \n",
    "a \"atomic dress\" to each atom species will significantly boost the performance.\n",
    "\n",
    "https://teoroo-cmc.github.io/PiNN_dev/notebooks/2_More_on_training.html#Atomic-dress\n",
    "\n",
    "On the other hand, pinn sums all the atomic contributions when making predictions,\n",
    "this might not be a good idea when predicting \"homo\" or \"lumo\". \n",
    "You'll need to tweak the network function to fit your need. \n",
    "\n",
    "At this point you might want to rewrite the pinn_network,\n",
    "PiNN tries to make this easier by making the constituent parts reusable.\n",
    "Layers are defined to perform tasks like constructing the neighbor lists, \n",
    "or perform pairwise operations.\n",
    "\n",
    "Further reading:  \n",
    "https://teoroo-cmc.github.io/PiNN_dev/concepts.html  \n",
    "https://teoroo-cmc.github.io/PiNN_dev/networks/pinn.html  \n",
    "\n",
    "You might also want to read the source code."
   ]
  },
  {
   "cell_type": "code",
   "execution_count": null,
   "metadata": {},
   "outputs": [],
   "source": [
    "pinn_network??"
   ]
  },
  {
   "cell_type": "markdown",
   "metadata": {},
   "source": [
    "You're welcome to further expore the optimal setup for certain task. \n",
    "But now we'll move on to see some applications of atomic neural netowrks in action."
   ]
  }
 ],
 "metadata": {
  "kernelspec": {
   "display_name": "Python 3",
   "language": "python",
   "name": "python3"
  },
  "language_info": {
   "codemirror_mode": {
    "name": "ipython",
    "version": 3
   },
   "file_extension": ".py",
   "mimetype": "text/x-python",
   "name": "python",
   "nbconvert_exporter": "python",
   "pygments_lexer": "ipython3",
   "version": "3.6.7"
  }
 },
 "nbformat": 4,
 "nbformat_minor": 2
}
