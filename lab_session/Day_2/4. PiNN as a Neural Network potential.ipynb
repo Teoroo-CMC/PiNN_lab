{
 "cells": [
  {
   "cell_type": "markdown",
   "metadata": {},
   "source": [
    "# 4. PiNN as a Neural Network Potential\n",
    "\n",
    "In this section we'll perform some compuations with pre-trained neural network potential"
   ]
  },
  {
   "cell_type": "code",
   "execution_count": null,
   "metadata": {},
   "outputs": [],
   "source": [
    "import tensorflow as tf\n",
    "from ase import units\n",
    "from pinn.models import potential_model\n",
    "from pinn.calculator import PiNN_calc\n",
    "from helpers import *\n",
    "tf.logging.set_verbosity('ERROR')"
   ]
  },
  {
   "cell_type": "markdown",
   "metadata": {},
   "source": [
    "A potential is just like the model you trained.\n",
    "And the good news is you can also get all the gradients from the potential like the force, stress, hessian etc\n",
    "(remember `tf.gradients()`?).\n",
    "\n",
    "Though, to sample the potential energy surface we need more than the stable organic molecules in QM9 dataset.\n",
    "Here the model is trained on the \n",
    "[ANI-1](https://figshare.com/articles/ANI-1_data_set_20M_DFT_energies_for_non-equilibrium_small_molecules/5287732) \n",
    "(20M DFT energies for non-equilibrium small molecules) dataset.\n",
    "It takes longer to train and the dataset is much larger (the dataset is 4.8GB). \n",
    "We'll provide the trained model here (you can still see the training log via tensorboard)."
   ]
  },
  {
   "cell_type": "code",
   "execution_count": null,
   "metadata": {},
   "outputs": [],
   "source": [
    "params = {'model_dir': './model_dir/PiNN_ANI',\n",
    "          'network': 'pinn_network',\n",
    "          'netparam': {'atom_types':[1, 6, 7, 8], 'depth': 6},\n",
    "          'train': {}}\n",
    "\n",
    "model = potential_model(params)\n",
    "calc = PiNN_calc(model, unit=units.kcal/units.mol)"
   ]
  },
  {
   "cell_type": "markdown",
   "metadata": {},
   "source": [
    "the model can be exported to an ASE calculator easily, and you can readily calculate the energy and forces of atoms."
   ]
  },
  {
   "cell_type": "code",
   "execution_count": null,
   "metadata": {},
   "outputs": [],
   "source": [
    "from ase.collections import s22\n",
    "from ase import units\n",
    "\n",
    "atoms = s22['Phenol_dimer']\n",
    "atoms.set_calculator(calc)\n",
    "atoms.get_potential_energy()\n",
    "atoms.get_forces()"
   ]
  },
  {
   "cell_type": "markdown",
   "metadata": {},
   "source": [
    "## Run some molecular dynamics\n",
    "\n",
    "ASE also support some basic molecular dynamics implementations:\n",
    "https://wiki.fysik.dtu.dk/ase/tutorials/md/md.html\n",
    "\n",
    "For example:"
   ]
  },
  {
   "cell_type": "code",
   "execution_count": null,
   "metadata": {},
   "outputs": [],
   "source": [
    "from ase.md.verlet import VelocityVerlet\n",
    "dyn = VelocityVerlet(atoms, dt=1 * units.fs, trajectory='md.traj')\n",
    "dyn.run(1000)"
   ]
  },
  {
   "cell_type": "code",
   "execution_count": null,
   "metadata": {},
   "outputs": [],
   "source": [
    "from ase.io import read\n",
    "traj = read('md.traj', index=':')\n",
    "show_traj(traj)"
   ]
  },
  {
   "cell_type": "markdown",
   "metadata": {},
   "source": [
    "Or perhaps simulate a large box of water?\n",
    "This could take forever on a modern supercomputer, but will only take several minites with the neural network potential."
   ]
  },
  {
   "cell_type": "code",
   "execution_count": null,
   "metadata": {},
   "outputs": [],
   "source": [
    "atoms = read('waterbox.xyz')\n",
    "atoms.set_calculator(calc)\n",
    "dyn = VelocityVerlet(atoms, dt=1 * units.fs, trajectory='waterbox.traj')\n",
    "dyn.run(1000)"
   ]
  },
  {
   "cell_type": "code",
   "execution_count": null,
   "metadata": {
    "scrolled": true
   },
   "outputs": [],
   "source": [
    "traj = read('waterbox.traj', index=':')\n",
    "for atom in traj:\n",
    "    atom.positions = atom.get_positions(wrap=True)\n",
    "show_traj(traj)"
   ]
  }
 ],
 "metadata": {
  "kernelspec": {
   "display_name": "Python 3",
   "language": "python",
   "name": "python3"
  },
  "language_info": {
   "codemirror_mode": {
    "name": "ipython",
    "version": 3
   },
   "file_extension": ".py",
   "mimetype": "text/x-python",
   "name": "python",
   "nbconvert_exporter": "python",
   "pygments_lexer": "ipython3",
   "version": "3.6.7"
  }
 },
 "nbformat": 4,
 "nbformat_minor": 2
}
