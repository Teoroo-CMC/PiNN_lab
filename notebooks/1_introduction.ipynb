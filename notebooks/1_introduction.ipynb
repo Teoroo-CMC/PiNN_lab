{
 "cells": [
  {
   "cell_type": "markdown",
   "metadata": {},
   "source": [
    "# Introduction to the atomic neural network lab"
   ]
  },
  {
   "cell_type": "markdown",
   "metadata": {},
   "source": [
    "<center>\n",
    "<img src=\"https://upload.wikimedia.org/wikipedia/en/thumb/0/03/Uppsala_University_logo.svg/1200px-Uppsala_University_logo.svg.png\" width=\"200px\"/>\n",
    "    \n",
    "<h1 align=center>\n",
    "    Computational Quantum Chemistry</br>\n",
    "    for Molecules and Materials (1KB273)</br>\n",
    "    Computer Lab Instructions\n",
    "</h1>\n",
    "    \n",
    "<h4 align=center>\n",
    "    Responsible teacher: Chao Zhang</br>\n",
    "    Lab teachers for Materials: Ageo Meier de Andrade and Yunqi Shao</br>\n",
    "    April, 2020\n",
    "</h4>\n",
    "\n",
    "</center>"
   ]
  },
  {
   "cell_type": "markdown",
   "metadata": {},
   "source": [
    "## Jupyter\n",
    "\n",
    "> Project Jupyter exists to develop open-source software, open-standards, and services for interactive computing across dozens of programming languages.\n",
    "> --[official website](https://jupyter.org/)\n",
    "\n",
    "Jupyter is an environment that supports web browser based development of code.\n",
    "With Jupyter, you can write and run code interactively. You can run simulation,\n",
    "visualize your data, presentation and even share your result with the only requirement\n",
    "being a modern web browser.\n",
    "\n"
   ]
  },
  {
   "cell_type": "markdown",
   "metadata": {},
   "source": [
    "## Colaboratory\n",
    "\n",
    "Usually to run Jupyter you still need to install it somewhere, neither on \n",
    "your local computer or on a server. Colabortory is a service provided by\n",
    "Google, which allows you to play with Jupyter notebooks without installing it.\n",
    "\n",
    "This lab will be carried out on Colab, to run this you have to have a Google \n",
    "account (if you prefer not to have one, you can install Jupyter on your own\n",
    "computer, contact the lab teacher Yunqi Shao if you need help)\n",
    "\n",
    "To get started, save click the file bottom on top left and save a copy of this \n",
    "notebook to your Google Drive. By default, only the notebook will be saved.\n",
    "The data you used will not be kept, and Colab will not have access to your \n",
    "files in your drive.\n",
    "\n"
   ]
  },
  {
   "cell_type": "markdown",
   "metadata": {},
   "source": [
    "## Wiggle your fingers"
   ]
  },
  {
   "cell_type": "markdown",
   "metadata": {},
   "source": [
    "As you might notice, the notebooks are divided to blocks of texts.\n",
    "Each \"block\" gets highlighted when you click on them. So far you \n",
    "have seen text blocks, which allows you to write text to annotate\n",
    "your code. It is a **good** habit to write down what you are doing.\n",
    "\n",
    "You can edit a block by double clicking it, the block is written\n",
    "in the [MarkDown](https://en.wikipedia.org/wiki/Markdown) syntax, \n",
    "which allows you to format the text using plain text.\n",
    "It is also easy to move the blocks up and down. \n",
    "\n",
    "Now try to edit some blocks."
   ]
  },
  {
   "cell_type": "markdown",
   "metadata": {},
   "source": [
    "## Code blocks\n",
    "\n",
    "**Code cells** (the one below) contains Python codes you can run\n",
    "- Click to edit code cell, `Ctrl`+`Enter` to run code\n",
    "- You can use them to evaluate [math operations](https://www.tutorialspoint.com/python/python_basic_operators.htm), for example:\n"
   ]
  },
  {
   "cell_type": "code",
   "execution_count": null,
   "metadata": {
    "scrolled": true
   },
   "outputs": [],
   "source": [
    "1 + 1"
   ]
  },
  {
   "cell_type": "markdown",
   "metadata": {},
   "source": [
    "The output of you last command will be printed.\n",
    "You can use the `print` function to print thing manually."
   ]
  },
  {
   "cell_type": "code",
   "execution_count": null,
   "metadata": {},
   "outputs": [],
   "source": [
    "print(\"Hello world!\")\n",
    "print(\"Can \" + \"you \" + \"add \" + \"strings \" + \"together\" + \"?\")\n",
    "print(\"What\" + \"about \" + 1 + \"number?\" )"
   ]
  },
  {
   "cell_type": "markdown",
   "metadata": {},
   "source": [
    "**Errors** are important and helpful hints when you write code.\n",
    "The above error contains several messages:\n",
    "\n",
    "- Data comes in different types in python: `1` is an \"int(eger)\" and `\"about\"` is a \"string\".  \n",
    "  (you'll see more types in the following)\n",
    "- You are \"concatenating\" string when you add them.\n",
    "- You are not allowed to concatenate integers to strings.\n",
    "\n",
    "It is important that you read them carefully and try to understand\n",
    "what they mean. Now can you fix the code?\n",
    "\n"
   ]
  },
  {
   "cell_type": "markdown",
   "metadata": {},
   "source": [
    "## A few more tips\n",
    "### Miss bash?\n",
    "\n",
    "You might get familiar with bash through previous labs and courses.\n",
    "\n",
    "Since Jupyter essentially runs (most likely) Linux, you can still\n",
    "access those commands in code blocks.\n",
    "\n",
    "To do so, prefix you command with `!`, for example:"
   ]
  },
  {
   "cell_type": "code",
   "execution_count": null,
   "metadata": {},
   "outputs": [],
   "source": [
    "!echo I\\'m running on \n",
    "!uname -a"
   ]
  },
  {
   "cell_type": "markdown",
   "metadata": {},
   "source": [
    "### Runtime \n",
    "\n",
    "Runtime (or kernel if you are not on Colab) is the process that runs the code you entered.\n",
    "\n",
    "If you scroll up with something, you can always restart your runtime to start over.\n",
    "Click the \"runtime\" menu to restart the runtime. This will delete everything you have\n",
    "in the memory (loading modules, variables, etc.), but the blocks and their outputs will\n",
    "be kept. \n",
    "\n",
    "In case something **really** bad happens, don't panic, on Colab you are just running\n",
    "on a virtual machine on Google's server. You can always request a new one by clicking\n",
    "\"factory reset runtime\". This will not only reset the kernel, but also remove the \n",
    "data you have downloaded to the virtual machine and the packages you installed on it.\n",
    "But the blocks and printed outputs will still be there.\n",
    "\n",
    "### GPUs and TPUs\n",
    "\n",
    "Training a large neural networks can speed up greatly with hardware accelerators like Graphic Processing Units (GPUs) and\n",
    "Tensor Processing Units (TPUs).\n",
    "\n",
    "Google provide accelerators in Colab, you can use one by choosing \"change runtime type\" and select a \"hardware accelerator\". \n",
    "It does not cost money but Google might limit how long you can access it. \n",
    "\n",
    "### Upload & save files\n",
    "\n",
    "If you want to use your personal data or save data to your Google Drive \n",
    "(beside the notebook itself) you can do so by clicking the \"folder\" icon\n",
    "on the left panel. It opens up a file browser where you can see what's \n",
    "inside your virtual machine. You can then click connect to link your \n",
    "personal data to this virtual machine\n",
    "(this is not required for this lab)."
   ]
  },
  {
   "cell_type": "markdown",
   "metadata": {},
   "source": [
    "## What we'll do\n",
    "\n",
    "- Basics operations with python\n",
    "- Introduction to the TensorFlow\n",
    "  - Build a simple neural network from scratch\n",
    "- Introduction to Keras\n",
    "  - Learn how to contruct a deep neural network using a high-level library\n",
    "- Introduction to atomic neural networks\n",
    "  - How neural networks can be used in atomistic simulations\n",
    "- Build and visualize the atomistic neural networks "
   ]
  },
  {
   "cell_type": "markdown",
   "metadata": {},
   "source": [
    "## That's it\n",
    "\n",
    "You are good to go, good luck with the lab!"
   ]
  }
 ],
 "metadata": {
  "language_info": {
   "codemirror_mode": {
    "name": "ipython",
    "version": 3
   },
   "file_extension": ".py",
   "mimetype": "text/x-python",
   "name": "python",
   "nbconvert_exporter": "python",
   "pygments_lexer": "ipython3",
   "version": "3.6.10"
  },
  "toc": {
   "base_numbering": 1,
   "nav_menu": {},
   "number_sections": true,
   "sideBar": true,
   "skip_h1_title": false,
   "title_cell": "Table of Contents",
   "title_sidebar": "Contents",
   "toc_cell": false,
   "toc_position": {},
   "toc_section_display": true,
   "toc_window_display": false
  }
 },
 "nbformat": 4,
 "nbformat_minor": 4
}
