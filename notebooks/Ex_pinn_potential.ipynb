{
 "cells": [
  {
   "cell_type": "markdown",
   "metadata": {},
   "source": [
    "# PiNN as a potential  \n",
    "\n",
    "For both ice and liquid water trained on ab-initial data."
   ]
  },
  {
   "cell_type": "markdown",
   "metadata": {},
   "source": [
    "## Introduction\n",
    "\n",
    "One of the primiary goal of PiNN is to serve as a verstile force field.\n",
    "\n",
    "Since the training part is rather costly (around a day with a descent GPU),\n",
    "we've prepared a pre-trained model for you if you just want to try it out."
   ]
  },
  {
   "cell_type": "markdown",
   "metadata": {},
   "source": [
    "## Using the pre-trained model\n",
    "\n",
    "PiNN predicts energies and forces given a atomic structure. To use PiNN \n",
    "as a potential, you need a molucular dynamics driver that updates atomic \n",
    "positions given the forces. Here we use ASE as a driver."
   ]
  },
  {
   "cell_type": "code",
   "execution_count": 1,
   "metadata": {},
   "outputs": [],
   "source": [
    "from ase import units\n",
    "from ase.io import read\n",
    "from ase.io.trajectory import Trajectory\n",
    "from ase.md.npt import NPT\n",
    "from ase.md.velocitydistribution import MaxwellBoltzmannDistribution"
   ]
  },
  {
   "cell_type": "markdown",
   "metadata": {},
   "source": [
    "### Setting up the calculator"
   ]
  },
  {
   "cell_type": "code",
   "execution_count": null,
   "metadata": {},
   "outputs": [],
   "source": [
    "model = potential_model(params)\n",
    "calc = PiNN_calc(model, unit=units.kcal/units.mol)\n",
    "atoms = read('init.xyz')\n",
    "atoms.set_calculator(calc)"
   ]
  },
  {
   "cell_type": "markdown",
   "metadata": {},
   "source": [
    "### Setting up the molecular dynamics calcualtion"
   ]
  },
  {
   "cell_type": "code",
   "execution_count": null,
   "metadata": {},
   "outputs": [],
   "source": [
    "MaxwellBoltzmannDistribution(atoms, 300.*units.kB)\n",
    "dyn = NPT(atoms, timestep=0.5 * units.fs, temperature=300*units.kB,\n",
    "          externalstress=1e5*units.Pascal, ttime=25*units.fs, pfactor=2.2e9*units.Pascal*(75*units.fs)**2)\n",
    "%rm npt-nh.traj\n",
    "traj = Trajectory('npt-nh.traj', 'w', atoms)\n",
    "dyn.attach(traj.write, interval=100)"
   ]
  }
 ],
 "metadata": {
  "kernelspec": {
   "display_name": "PiNN (TF2)",
   "language": "python",
   "name": "pinn-tf2"
  },
  "language_info": {
   "codemirror_mode": {
    "name": "ipython",
    "version": 3
   },
   "file_extension": ".py",
   "mimetype": "text/x-python",
   "name": "python",
   "nbconvert_exporter": "python",
   "pygments_lexer": "ipython3",
   "version": "3.6.10"
  }
 },
 "nbformat": 4,
 "nbformat_minor": 4
}
