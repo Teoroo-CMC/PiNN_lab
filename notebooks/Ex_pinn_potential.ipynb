{
 "cells": [
  {
   "cell_type": "markdown",
   "metadata": {},
   "source": [
    "# PiNN as a potential  \n",
    "\n",
    "For both ice and liquid water trained on ab-initial data."
   ]
  },
  {
   "cell_type": "markdown",
   "metadata": {},
   "source": [
    "## Introduction\n",
    "\n",
    "One of the primiary goal of PiNN is to serve as a verstile force field.\n",
    "\n",
    "Since the training part is rather costly (around a day with a descent GPU),\n",
    "we've prepared a pre-trained model for you if you just want to try it out."
   ]
  },
  {
   "cell_type": "markdown",
   "metadata": {},
   "source": [
    "## Using the pre-trained model\n",
    "\n",
    "PiNN predicts energies and forces given a atomic structure. To use PiNN \n",
    "as a potential, you need a molucular dynamics driver that updates atomic \n",
    "positions given the forces. Here we use ASE as a driver."
   ]
  },
  {
   "cell_type": "code",
   "execution_count": null,
   "metadata": {},
   "outputs": [],
   "source": [
    "from ase import units\n",
    "from ase.io import read\n",
    "from ase.io.trajectory import Trajectory\n",
    "from ase.md.nptberendsen import NPTBerendsen\n",
    "from ase.md.velocitydistribution import MaxwellBoltzmannDistribution\n",
    "\n",
    "from pinn.models import potential_model\n",
    "from pinn.calculator import PiNN_calc"
   ]
  },
  {
   "cell_type": "markdown",
   "metadata": {},
   "source": [
    "### Setting up the calculator"
   ]
  },
  {
   "cell_type": "code",
   "execution_count": null,
   "metadata": {},
   "outputs": [],
   "source": [
    "model = potential_model('blyp_water_bpnn')\n",
    "calc = PiNN_calc(model)\n",
    "atoms = read('waterbox.xyz')\n",
    "atoms.set_calculator(calc)"
   ]
  },
  {
   "cell_type": "markdown",
   "metadata": {},
   "source": [
    "### Setting up the molecular dynamics calcualtion"
   ]
  },
  {
   "cell_type": "code",
   "execution_count": null,
   "metadata": {},
   "outputs": [],
   "source": [
    "MaxwellBoltzmannDistribution(atoms, 300.*units.kB)\n",
    "dt = 0.5 * units.fs\n",
    "dyn = NPTBerendsen(atoms, timestep=dt, temperature=330, pressure=1,\n",
    "                  taut=dt * 100, taup=dt * 1000, compressibility=4.57e-5)\n",
    "traj = Trajectory('npt.traj', 'w', atoms)\n",
    "dyn.attach(traj.write)\n",
    "dyn.run(1000)"
   ]
  },
  {
   "cell_type": "markdown",
   "metadata": {},
   "source": [
    "# Visualize the trajectory \n",
    "\n",
    "To run this you need [NGLView](https://github.com/arose/nglview)"
   ]
  },
  {
   "cell_type": "code",
   "execution_count": null,
   "metadata": {},
   "outputs": [],
   "source": [
    "import nglview as nv\n",
    "\n",
    "traj = read('npt.traj', index=':')\n",
    "v = nv.show_asetraj(traj)\n",
    "v.clear_representations()\n",
    "v.add_spacefill(radius_scale=0.5)\n",
    "v.add_unitcell()\n",
    "v"
   ]
  }
 ],
 "metadata": {
  "kernelspec": {
   "display_name": "PiNN (TF2)",
   "language": "python",
   "name": "pinn-tf2"
  },
  "language_info": {
   "codemirror_mode": {
    "name": "ipython",
    "version": 3
   },
   "file_extension": ".py",
   "mimetype": "text/x-python",
   "name": "python",
   "nbconvert_exporter": "python",
   "pygments_lexer": "ipython3",
   "version": "3.6.10"
  }
 },
 "nbformat": 4,
 "nbformat_minor": 4
}
