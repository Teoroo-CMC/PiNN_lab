{
 "cells": [
  {
   "cell_type": "markdown",
   "metadata": {},
   "source": [
    "#  Python basics\n",
    "\n",
    "## Variables\n",
    "\n",
    "In python, data can be assigned to variables"
   ]
  },
  {
   "cell_type": "code",
   "execution_count": null,
   "metadata": {},
   "outputs": [],
   "source": [
    "a = \"A string\"\n",
    "print(a)"
   ]
  },
  {
   "cell_type": "markdown",
   "metadata": {},
   "source": [
    "You've seen strings and integers before.  \n",
    "There are more \"types\" of data in Python, for example:\n",
    "\n",
    "### Lists\n",
    "Lists are defined using square brackets `[]`, you can \n",
    "access (called \"indexing\") the items in a string with numbers.  \n",
    "*In Python, you count starting from 0!*"
   ]
  },
  {
   "cell_type": "code",
   "execution_count": null,
   "metadata": {},
   "outputs": [],
   "source": [
    "l = [1, \"a\", a]\n",
    "print(l[2]) # Try l[-1]? or l[1:]?\n",
    "# Adding a hash sign \"#\" means everything following are\n",
    "# comments, they will be ignored when you execute the code"
   ]
  },
  {
   "cell_type": "markdown",
   "metadata": {},
   "source": [
    "### Dictionary\n",
    "\n",
    "A dictionary is like a list, but the data can be indexed with any data type.\n",
    "They are created with curved brackets `{}`."
   ]
  },
  {
   "cell_type": "code",
   "execution_count": null,
   "metadata": {},
   "outputs": [],
   "source": [
    "d = {'a':1, 'b':2, 3:'c'}\n",
    "print(d[3])"
   ]
  },
  {
   "cell_type": "markdown",
   "metadata": {},
   "source": [
    "## Control flow\n",
    "\n",
    "In python, the code are \"blocked together\" with indentations.\n",
    "A block of code can be executed iteratively or only executed on condition.\n",
    "\n",
    "For example, you can define loops of commands or condition statements like this."
   ]
  },
  {
   "cell_type": "code",
   "execution_count": null,
   "metadata": {},
   "outputs": [],
   "source": [
    "for item in [1, 4, 3, 2,5]:\n",
    "    print(\"item is\", item)\n",
    "    if item > 3:\n",
    "        print(item, \"is larger than 3\")"
   ]
  },
  {
   "cell_type": "markdown",
   "metadata": {},
   "source": [
    "### Functions\n",
    "\n",
    "What do you do when you need to execute some code over and over?\n",
    "A function is an object that takes argument and returns values.\n",
    "It can be defined and called as following,\n",
    "*so that you don't have to copy the same piece of code everywhere*."
   ]
  },
  {
   "cell_type": "code",
   "execution_count": null,
   "metadata": {},
   "outputs": [],
   "source": [
    "def first_element(l):\n",
    "    # Here you can do a lot!\n",
    "      \n",
    "    #\n",
    "    return l[0]\n",
    "\n",
    "first_element([1, 2, 3, 4, 5])"
   ]
  },
  {
   "cell_type": "markdown",
   "metadata": {},
   "source": [
    "## Using packages\n",
    "\n",
    "Packages consists of modules to extend python's functionality. (more on [modules](https://docs.python.org/3/tutorial/modules.html))\n",
    "\n",
    "### Numpy\n",
    "Numpy is a python package for handling matrix operations.  \n",
    "Here are some examples of using the numpy module."
   ]
  },
  {
   "cell_type": "code",
   "execution_count": null,
   "metadata": {},
   "outputs": [],
   "source": [
    "import numpy as np # we import numpy and name it as np\n",
    "#we can now access any numpy functionality by np.*\n",
    "\n",
    "A = np.array([[1,2],[3,4]]) \n",
    "B = np.array([[5],[6]])\n",
    "print(A)\n",
    "print(B)"
   ]
  },
  {
   "cell_type": "markdown",
   "metadata": {},
   "source": [
    "By default, numpy arrays do element-wise arithmetic operations, e.g."
   ]
  },
  {
   "cell_type": "code",
   "execution_count": null,
   "metadata": {},
   "outputs": [],
   "source": [
    "print(A*2)"
   ]
  },
  {
   "cell_type": "markdown",
   "metadata": {},
   "source": [
    "When you try to multiply two arrays with different shape,  \n",
    "numpy will try to repeat them so that their shape match."
   ]
  },
  {
   "cell_type": "code",
   "execution_count": null,
   "metadata": {},
   "outputs": [],
   "source": [
    "print(A*B)"
   ]
  },
  {
   "cell_type": "markdown",
   "metadata": {},
   "source": [
    "You can do matrix multiplications like this."
   ]
  },
  {
   "cell_type": "code",
   "execution_count": null,
   "metadata": {},
   "outputs": [],
   "source": [
    "print(np.matmul(A, B))"
   ]
  },
  {
   "cell_type": "markdown",
   "metadata": {},
   "source": [
    "Arrays can be indexed like lists, but with multiple dimensions.  (more on [indexing](https://docs.scipy.org/doc/numpy/reference/arrays.indexing.html))"
   ]
  },
  {
   "cell_type": "code",
   "execution_count": null,
   "metadata": {},
   "outputs": [],
   "source": [
    "C = np.ones([4,4]) # creates a 4x4 matrix filled with 1\n",
    "print(C[:3, :])    # take the first 3 rows, and all columns"
   ]
  },
  {
   "cell_type": "markdown",
   "metadata": {},
   "source": [
    "There are a number of helpful functions in numpy:\n",
    "\n",
    "To name a few:\n",
    "- `np.mean` : Compute the arithmetic mean.\n",
    "- `np.eye` : Return a 2-D array with ones on the diagonal and zeros elsewhere.\n",
    "- `np.linspace` : Return evenly spaced numbers over a specified interval.\n",
    "\n",
    "Jupyter provides a handy utility if you want to \n",
    "know about what a function does, run the code block below.  \n",
    "\n",
    "By prefixing `?` to your function Jupyter prints the documentation\n",
    "of a function, a method or a class. \n",
    "\n",
    "**TASK:** \n",
    "\n",
    "- Read what the above function does, and verify what you read by using the function.\n",
    "- The docstring exist for almost any variable you created (try to see the docstring of `a` or `np`?)"
   ]
  },
  {
   "cell_type": "code",
   "execution_count": null,
   "metadata": {},
   "outputs": [],
   "source": [
    "?np.mean"
   ]
  },
  {
   "cell_type": "markdown",
   "metadata": {},
   "source": [
    "You can see that the help function gives you all the details you need to know \n",
    "about a function: its expected inputs, optional parameters, outputs and sometimes examples of usage. "
   ]
  },
  {
   "cell_type": "markdown",
   "metadata": {},
   "source": [
    "## Matplotlib\n",
    "\n",
    "Matplotlib is a Python package for plotting data. \n",
    "\n",
    "The `pyplot` tool below mimicks the functionalities of MATLAB \n",
    "plotting functions, for instance:\n",
    "- `plt.plot(x, y, 'r-)` tells matplotlib to draw in red lines\n",
    "- `plt.ylabel('y values')` adds a label to the y-axis\n",
    "- There's [more](https://matplotlib.org/tutorials/introductory/pyplot.html)!"
   ]
  },
  {
   "cell_type": "code",
   "execution_count": null,
   "metadata": {},
   "outputs": [],
   "source": [
    "# matplotlib plots can be shown inline in the notebooks\n",
    "%matplotlib inline \n",
    "import matplotlib.pyplot as plt\n",
    "\n",
    "x = np.linspace(0,10,100)\n",
    "y = np.sin(x)\n",
    "plt.plot(x, y)"
   ]
  },
  {
   "cell_type": "markdown",
   "metadata": {},
   "source": [
    "## Practice\n",
    "\n",
    "**TASK:** Here's a small test for your python skills.\n",
    "\n",
    "- Define a function to plot a polynomial of x given the coefficients, and plot the result.  \n",
    "    $y = c_0 + c_1x + c_2x^2 + c_3x^3 ....$\n",
    "- Draw a few polynomials with the function.\n",
    "- **BONUS:** improve the function so that you can control the [style](https://matplotlib.org/3.2.1/api/_as_gen/matplotlib.pyplot.plot.html) of your plot."
   ]
  },
  {
   "cell_type": "code",
   "execution_count": null,
   "metadata": {},
   "outputs": [],
   "source": [
    "def plot_polynomial(x, c):\n",
    "    y = 0\n",
    "    for i in range(len(c)):\n",
    "        # -------------------------------\n",
    "        # Here you need to write the code\n",
    "        # Inside the block, i is a variable that changes each iteration \n",
    "        # from 0 to 1, 2, ..., which conveniently equals to the power.\n",
    "        # You need to use the i to get the coefficients from c,\n",
    "        # and update the value of y\n",
    "        \n",
    "        \n",
    "        y = y + ....\n",
    "        #--------------------------------\n",
    "    plt.plot(x, y)\n",
    "    \n",
    "x = np.linspace(0, 10, 100)\n",
    "plot_polynomial(x, [0, -1, 3, 2])"
   ]
  }
 ],
 "metadata": {
  "language_info": {
   "codemirror_mode": {
    "name": "ipython",
    "version": 3
   },
   "file_extension": ".py",
   "mimetype": "text/x-python",
   "name": "python",
   "nbconvert_exporter": "python",
   "pygments_lexer": "ipython3",
   "version": "3.6.10"
  }
 },
 "nbformat": 4,
 "nbformat_minor": 4
}
